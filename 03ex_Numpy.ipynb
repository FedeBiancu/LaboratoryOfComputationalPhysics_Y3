{
 "cells": [
  {
   "cell_type": "markdown",
   "metadata": {},
   "source": [
    "### Numpy basics"
   ]
  },
  {
   "cell_type": "markdown",
   "metadata": {},
   "source": [
    "1\\. Find the row, column and overall means for the following matrix:\n",
    "\n",
    "```python\n",
    "m = np.arange(12).reshape((3,4))\n",
    "```"
   ]
  },
  {
   "cell_type": "code",
   "execution_count": 1,
   "metadata": {},
   "outputs": [
    {
     "name": "stdout",
     "output_type": "stream",
     "text": [
      "Shape of the array: (3, 4)\n",
      "Row: 3\n",
      "Column: 4\n",
      "Mean with numpy: 5.5\n",
      "Mean: 5.5\n",
      "[[ 0  1  2  3]\n",
      " [ 4  5  6  7]\n",
      " [ 8  9 10 11]]\n"
     ]
    }
   ],
   "source": [
    "import numpy as np\n",
    "\n",
    "m = np.arange(12).reshape((3,4))\n",
    "print(m)\n",
    "print(\"Shape of the array:\", m.shape)\n",
    "print(\"Row:\", m.shape[0])\n",
    "print(\"Column:\", m.shape[1])\n",
    "print(\"Mean with numpy:\", np.mean(m))\n",
    "print(\"Mean:\", m.mean())\n"
   ]
  },
  {
   "cell_type": "markdown",
   "metadata": {},
   "source": [
    "2\\. Find the outer product of the following two vecotrs\n",
    "\n",
    "```python\n",
    "u = np.array([1,3,5,7])\n",
    "v = np.array([2,4,6,8])\n",
    "```\n",
    "\n",
    "Do this in the following ways:\n",
    "\n",
    "   * Using the function outer in numpy\n",
    "   * Using a nested for loop or list comprehension\n",
    "   * Using numpy broadcasting operatoins\n"
   ]
  },
  {
   "cell_type": "code",
   "execution_count": 24,
   "metadata": {},
   "outputs": [
    {
     "name": "stdout",
     "output_type": "stream",
     "text": [
      "ResNP: [[ 2  4  6  8]\n",
      " [ 6 12 18 24]\n",
      " [10 20 30 40]\n",
      " [14 28 42 56]]\n",
      "ResList: [[ 2  4  6  8]\n",
      " [ 6 12 18 24]\n",
      " [10 20 30 40]\n",
      " [14 28 42 56]]\n",
      "ResBroad: [[ 2  4  6  8]\n",
      " [ 6 12 18 24]\n",
      " [10 20 30 40]\n",
      " [14 28 42 56]]\n"
     ]
    }
   ],
   "source": [
    "u = np.array([1,3,5,7])\n",
    "v = np.array([2,4,6,8])\n",
    "\n",
    "\n",
    "print(\"ResNP:\", np.outer(u,v))\n",
    "print(\"ResList:\", np.array([i*v for i in u]))\n",
    "print(\"ResBroad:\", np.array(u[:,np.newaxis]*v))"
   ]
  },
  {
   "cell_type": "markdown",
   "metadata": {},
   "source": [
    "3\\. Create a 10 by 6 matrix of random uniform numbers. Set all rows with any entry less than 0.1 to be zero\n",
    "\n",
    "Hint: Use the following numpy functions - np.random.random, np.any as well as Boolean indexing and the axis argument."
   ]
  },
  {
   "cell_type": "code",
   "execution_count": 25,
   "metadata": {},
   "outputs": [
    {
     "name": "stdout",
     "output_type": "stream",
     "text": [
      "RandArray without mask: [[0.37505713 0.64030462 0.95001658 0.0756772  0.77692966 0.83274576]\n",
      " [0.05480574 0.81767738 0.88535146 0.72234651 0.00255603 0.98119928]\n",
      " [0.34341985 0.09475989 0.39464259 0.00494492 0.73670683 0.95580687]\n",
      " [0.82060937 0.344983   0.37854446 0.78476361 0.08623151 0.54607394]\n",
      " [0.16222602 0.29006973 0.04500817 0.33218776 0.73653322 0.83921149]\n",
      " [0.70936161 0.18840112 0.98566856 0.38800331 0.50315448 0.76353033]\n",
      " [0.68373245 0.72195738 0.21415209 0.76309258 0.07521616 0.6108907 ]\n",
      " [0.42563042 0.23435109 0.54902872 0.57689975 0.54801626 0.1549115 ]\n",
      " [0.63256148 0.10914342 0.11470001 0.49617134 0.37723849 0.97906001]\n",
      " [0.71327899 0.06139073 0.90028092 0.94737519 0.82924856 0.15407004]]\n",
      "RandArray with mask: [[0.37505713 0.64030462 0.95001658 0.         0.77692966 0.83274576]\n",
      " [0.         0.81767738 0.88535146 0.72234651 0.         0.98119928]\n",
      " [0.34341985 0.         0.39464259 0.         0.73670683 0.95580687]\n",
      " [0.82060937 0.344983   0.37854446 0.78476361 0.         0.54607394]\n",
      " [0.16222602 0.29006973 0.         0.33218776 0.73653322 0.83921149]\n",
      " [0.70936161 0.18840112 0.98566856 0.38800331 0.50315448 0.76353033]\n",
      " [0.68373245 0.72195738 0.21415209 0.76309258 0.         0.6108907 ]\n",
      " [0.42563042 0.23435109 0.54902872 0.57689975 0.54801626 0.1549115 ]\n",
      " [0.63256148 0.10914342 0.11470001 0.49617134 0.37723849 0.97906001]\n",
      " [0.71327899 0.         0.90028092 0.94737519 0.82924856 0.15407004]]\n"
     ]
    }
   ],
   "source": [
    "np.random.seed(112)\n",
    "\n",
    "m = np.random.rand(10,6)\n",
    "print(\"RandArray without mask:\", m)\n",
    "m[m <0.1] = 0\n",
    "print(\"RandArray with mask:\", m)"
   ]
  },
  {
   "cell_type": "markdown",
   "metadata": {},
   "source": [
    "4\\. Use np.linspace to create an array of 100 numbers between 0 and 2π (includsive).\n",
    "\n",
    "  * Extract every 10th element using slice notation\n",
    "  * Reverse the array using slice notation\n",
    "  * Extract elements where the absolute difference between the sine and cosine functions evaluated at that element is less than 0.1\n",
    "  * Make a plot showing the sin and cos functions and indicate where they are close"
   ]
  },
  {
   "cell_type": "code",
   "execution_count": 27,
   "metadata": {},
   "outputs": [
    {
     "name": "stdout",
     "output_type": "stream",
     "text": [
      "Limited : [0.         0.06410118 0.12820237 0.19230355 0.25640473 0.32050592\n",
      " 0.3846071  0.44870828 0.51280947 0.57691065] \n",
      "\n",
      "Reverse : [6.34601716 6.28191598 6.21781479 6.15371361 6.08961243 6.02551124\n",
      " 5.96141006 5.89730888 5.83320769 5.76910651 5.70500533 5.64090414\n",
      " 5.57680296 5.51270178 5.44860059 5.38449941 5.32039823 5.25629704\n",
      " 5.19219586 5.12809467 5.06399349 4.99989231 4.93579112 4.87168994\n",
      " 4.80758876 4.74348757 4.67938639 4.61528521 4.55118402 4.48708284\n",
      " 4.42298166 4.35888047 4.29477929 4.23067811 4.16657692 4.10247574\n",
      " 4.03837456 3.97427337 3.91017219 3.84607101 3.78196982 3.71786864\n",
      " 3.65376746 3.58966627 3.52556509 3.46146391 3.39736272 3.33326154\n",
      " 3.26916036 3.20505917 3.14095799 3.0768568  3.01275562 2.94865444\n",
      " 2.88455325 2.82045207 2.75635089 2.6922497  2.62814852 2.56404734\n",
      " 2.49994615 2.43584497 2.37174379 2.3076426  2.24354142 2.17944024\n",
      " 2.11533905 2.05123787 1.98713669 1.9230355  1.85893432 1.79483314\n",
      " 1.73073195 1.66663077 1.60252959 1.5384284  1.47432722 1.41022604\n",
      " 1.34612485 1.28202367 1.21792249 1.1538213  1.08972012 1.02561893\n",
      " 0.96151775 0.89741657 0.83331538 0.7692142  0.70511302 0.64101183\n",
      " 0.57691065 0.51280947 0.44870828 0.3846071  0.32050592 0.25640473\n",
      " 0.19230355 0.12820237 0.06410118 0.        ] \n",
      "\n",
      "Result: [0.7692142012425918, 0.8333153846794744, 3.9101721896498414, 3.9742733730867243]\n",
      "Points where cos(x) and sen(x) are close: \n",
      " [0.7692142012425918, 0.8333153846794744, 3.9101721896498414, 3.9742733730867243]\n"
     ]
    },
    {
     "data": {
      "image/png": "[encoded data removed]",
      "text/plain": [
       "<Figure size 432x288 with 1 Axes>"
      ]
     },
     "metadata": {
      "needs_background": "light"
     },
     "output_type": "display_data"
    }
   ],
   "source": [
    "lin = np.linspace(0, 2*np.pi + 2*np.pi/100, 100)\n",
    "print(\"Limited :\", lin[:10], '\\n')\n",
    "print(\"Reverse :\", lin[::-1], '\\n')\n",
    "print(\"Result:\", [x for x in lin if np.absolute(np.cos(x)-np.sin(x))<0.1])\n",
    "\n",
    "import matplotlib.pyplot as plt\n",
    "%matplotlib inline\n",
    "\n",
    "sin = np.sin(lin)\n",
    "cos = np.cos(lin)\n",
    "print(\"Points where cos(x) and sen(x) are close: \\n\",[x for x in lin if np.absolute(np.sin(x)-np.cos(x))<0.1])\n",
    "\n",
    "plt.plot(lin,sin)\n",
    "plt.plot(lin,cos)\n",
    "plt.show()\n"
   ]
  },
  {
   "cell_type": "markdown",
   "metadata": {},
   "source": [
    "5\\. Create a matrix that shows the 10 by 10 multiplication table.\n",
    "\n",
    " * Find the trace of the matrix\n",
    " * Extract the anto-diagonal (this should be ```array([10, 18, 24, 28, 30, 30, 28, 24, 18, 10])```)\n",
    " * Extract the diagnoal offset by 1 upwards (this should be ```array([ 2,  6, 12, 20, 30, 42, 56, 72, 90])```)"
   ]
  },
  {
   "cell_type": "code",
   "execution_count": 28,
   "metadata": {},
   "outputs": [
    {
     "name": "stdout",
     "output_type": "stream",
     "text": [
      "Original [[  1   2   3   4   5   6   7   8   9  10]\n",
      " [  2   4   6   8  10  12  14  16  18  20]\n",
      " [  3   6   9  12  15  18  21  24  27  30]\n",
      " [  4   8  12  16  20  24  28  32  36  40]\n",
      " [  5  10  15  20  25  30  35  40  45  50]\n",
      " [  6  12  18  24  30  36  42  48  54  60]\n",
      " [  7  14  21  28  35  42  49  56  63  70]\n",
      " [  8  16  24  32  40  48  56  64  72  80]\n",
      " [  9  18  27  36  45  54  63  72  81  90]\n",
      " [ 10  20  30  40  50  60  70  80  90 100]]\n",
      "anti-diagonal [10 18 24 28 30 30 28 24 18 10]\n",
      "diagnoal offset by 1 upwards [ 2  6 12 20 30 42 56 72 90]\n"
     ]
    }
   ],
   "source": [
    "m = np.arange(1,11)\n",
    "m = m[:,np.newaxis] * m.T\n",
    "print(\"Original\", m)\n",
    "print(\"anti-diagonal\", np.diag(m[::-1]))\n",
    "print(\"diagnoal offset by 1 upwards\", np.diag(m,1))"
   ]
  },
  {
   "cell_type": "markdown",
   "metadata": {},
   "source": [
    "6\\. Use broadcasting to create a grid of distances\n",
    "\n",
    "Route 66 crosses the following cities in the US: Chicago, Springfield, Saint-Louis, Tulsa, Oklahoma City, Amarillo, Santa Fe, Albuquerque, Flagstaff, Los Angeles\n",
    "The corresponding positions in miles are: 0, 198, 303, 736, 871, 1175, 1475, 1544, 1913, 2448\n",
    "\n",
    "  * Construct a 2D grid of distances among each city along Route 66\n",
    "  * Convert that in km (those savages...)"
   ]
  },
  {
   "cell_type": "code",
   "execution_count": 29,
   "metadata": {},
   "outputs": [
    {
     "name": "stdout",
     "output_type": "stream",
     "text": [
      "Grid: \n",
      " [[    0   198   303   736   871  1175  1475  1544  1913  2448]\n",
      " [ -198     0   105   538   673   977  1277  1346  1715  2250]\n",
      " [ -303  -105     0   433   568   872  1172  1241  1610  2145]\n",
      " [ -736  -538  -433     0   135   439   739   808  1177  1712]\n",
      " [ -871  -673  -568  -135     0   304   604   673  1042  1577]\n",
      " [-1175  -977  -872  -439  -304     0   300   369   738  1273]\n",
      " [-1475 -1277 -1172  -739  -604  -300     0    69   438   973]\n",
      " [-1544 -1346 -1241  -808  -673  -369   -69     0   369   904]\n",
      " [-1913 -1715 -1610 -1177 -1042  -738  -438  -369     0   535]\n",
      " [-2448 -2250 -2145 -1712 -1577 -1273  -973  -904  -535     0]]\n",
      "Grid in km: \n",
      " [[    0.     318.78   487.83  1184.96  1402.31  1891.75  2374.75  2485.84\n",
      "   3079.93  3941.28]\n",
      " [ -318.78     0.     169.05   866.18  1083.53  1572.97  2055.97  2167.06\n",
      "   2761.15  3622.5 ]\n",
      " [ -487.83  -169.05     0.     697.13   914.48  1403.92  1886.92  1998.01\n",
      "   2592.1   3453.45]\n",
      " [-1184.96  -866.18  -697.13     0.     217.35   706.79  1189.79  1300.88\n",
      "   1894.97  2756.32]\n",
      " [-1402.31 -1083.53  -914.48  -217.35     0.     489.44   972.44  1083.53\n",
      "   1677.62  2538.97]\n",
      " [-1891.75 -1572.97 -1403.92  -706.79  -489.44     0.     483.     594.09\n",
      "   1188.18  2049.53]\n",
      " [-2374.75 -2055.97 -1886.92 -1189.79  -972.44  -483.       0.     111.09\n",
      "    705.18  1566.53]\n",
      " [-2485.84 -2167.06 -1998.01 -1300.88 -1083.53  -594.09  -111.09     0.\n",
      "    594.09  1455.44]\n",
      " [-3079.93 -2761.15 -2592.1  -1894.97 -1677.62 -1188.18  -705.18  -594.09\n",
      "      0.     861.35]\n",
      " [-3941.28 -3622.5  -3453.45 -2756.32 -2538.97 -2049.53 -1566.53 -1455.44\n",
      "   -861.35     0.  ]]\n"
     ]
    }
   ],
   "source": [
    "route66 = np.array([0, 198, 303, 736, 871, 1175, 1475, 1544, 1913, 2448])\n",
    "d2Grid = route66 - route66.reshape(10,1)\n",
    "costKm = 1.61\n",
    "print(\"Grid: \\n\", format(d2Grid))\n",
    "print(\"Grid in km: \\n\", format(d2Grid*costKm))"
   ]
  },
  {
   "cell_type": "markdown",
   "metadata": {},
   "source": [
    "7\\. Prime numbers sieve: compute the prime numbers in the 0-N (N=99 to start with) range with a sieve (mask).\n",
    "  * Constract a shape (100,) boolean array, the mask\n",
    "  * Identify the multiples of each number starting from 2 and set accordingly the corresponding mask element\n",
    "  * Apply the mask to obtain an array of ordered prime numbers\n",
    "  * Check the performances (timeit); how does it scale with N?\n",
    "  * Implement the optimization suggested in the [sieve of Eratosthenes](https://en.wikipedia.org/wiki/Sieve_of_Eratosthenes)"
   ]
  },
  {
   "cell_type": "code",
   "execution_count": 30,
   "metadata": {},
   "outputs": [
    {
     "name": "stdout",
     "output_type": "stream",
     "text": [
      "448 µs ± 190 µs per loop (mean ± std. dev. of 7 runs, 10 loops each)\n",
      "32.7 µs ± 2.13 µs per loop (mean ± std. dev. of 7 runs, 10 loops each)\n",
      "5.51 ms ± 270 µs per loop (mean ± std. dev. of 7 runs, 10 loops each)\n",
      "325 µs ± 5.97 µs per loop (mean ± std. dev. of 7 runs, 10 loops each)\n"
     ]
    }
   ],
   "source": [
    "import math \n",
    "\n",
    "N = 100\n",
    "def sieve(N):\n",
    "    matrix = np.ones((N-1,), dtype=bool)\n",
    "    num = np.array([x for x in range(1,N)])\n",
    "    for n in range(2,math.ceil(N/2)):\n",
    "        prime_cond = (num%n==0) & (num > n)\n",
    "        matrix[prime_cond] = False\n",
    "        \n",
    "\n",
    "def sieveOfEra(N):\n",
    "    matrix = np.ones((N-1,), dtype=bool)\n",
    "    num = np.array([x for x in range(1,N)])\n",
    "    \n",
    "    for k in range(2,math.ceil(N/2)-1):\n",
    "        if(matrix[k]):\n",
    "            for j in range(k**2,N-1):\n",
    "                matrix[j] = False\n",
    "                \n",
    "# Some proves\n",
    "\n",
    "%timeit -n 10 sieve(N)\n",
    "%timeit -n 10 sieveOfEra(N)\n",
    "%timeit -n 10 sieve(10*N)\n",
    "%timeit -n 10 sieveOfEra(10*N)"
   ]
  },
  {
   "cell_type": "markdown",
   "metadata": {},
   "source": [
    "8\\. Diffusion using random walk\n",
    "\n",
    "Consider a simple random walk process: at each step in time, a walker jumps right or left (+1 or -1) with equal probability. The goal is to find the typical distance from the origin of a random walker after a given amount of time. \n",
    "To do that, let's simulate many walkers and create a 2D array with each walker as a raw and the actual time evolution as columns\n",
    "\n",
    "  * Take 1000 walkers and let them walk for 200 steps\n",
    "  * Use randint to create a 2D array of size walkers x steps with values -1 or 1\n",
    "  * Build the actual walking distances for each walker (i.e. another 2D array \"summing on each raw\")\n",
    "  * Take the square of that 2D array (elementwise)\n",
    "  * Compute the mean of the squared distances at each step (i.e. the mean along the columns)\n",
    "  * Plot the average distances (sqrt(distance\\*\\*2)) as a function of time (step)\n",
    "  \n",
    "Did you get what you expected?"
   ]
  },
  {
   "cell_type": "code",
   "execution_count": 77,
   "metadata": {},
   "outputs": [
    {
     "data": {
      "image/png": "[encoded data removed]",
      "text/plain": [
       "<Figure size 432x288 with 1 Axes>"
      ]
     },
     "metadata": {
      "needs_background": "light"
     },
     "output_type": "display_data"
    }
   ],
   "source": [
    "np.random.seed(2313)\n",
    "\n",
    "walkers = np.zeros((1000,200))\n",
    "for i in range(walkers.shape[0]):\n",
    "    matrix = np.random.randint(-1,1,size=walkers.shape[1]) \n",
    "    matrix[matrix==0]=1\n",
    "    walkers[i] = matrix\n",
    "\n",
    "sum_ = np.cumsum(walkers, axis=1)\n",
    "squared_sum= sum_**2\n",
    "mean_ = np.mean(squared_sum, axis=0)\n",
    "plt_x = plt\n",
    "plt_x.plot(mean_**0.5)\n",
    "plt_x.show()"
   ]
  },
  {
   "cell_type": "markdown",
   "metadata": {},
   "source": [
    "9\\. Analyze a data file \n",
    "  * Download the population of hares, lynxes and carrots at the beginning of the last century.\n",
    "    ```python\n",
    "    ! wget https://www.dropbox.com/s/3vigxoqayo389uc/populations.txt\n",
    "    ```\n",
    "\n",
    "  * Check the content by looking within the file\n",
    "  * Load the data (use an appropriate numpy method) into a 2D array\n",
    "  * Create arrays out of the columns, the arrays being (in order): *year*, *hares*, *lynxes*, *carrots* \n",
    "  * Plot the 3 populations over the years\n",
    "  * Compute the main statistical properties of the dataset (mean, std, correlations, etc.)\n",
    "  * Which species has the highest population each year?\n",
    "\n",
    "Do you feel there is some evident correlation here? [Studies](https://www.enr.gov.nt.ca/en/services/lynx/lynx-snowshoe-hare-cycle) tend to believe so."
   ]
  },
  {
   "cell_type": "code",
   "execution_count": 35,
   "metadata": {},
   "outputs": [
    {
     "name": "stdout",
     "output_type": "stream",
     "text": [
      "[[ 1900. 30000.  4000. 48300.]\n",
      " [ 1901. 47200.  6100. 48200.]\n",
      " [ 1902. 70200.  9800. 41500.]\n",
      " [ 1903. 77400. 35200. 38200.]\n",
      " [ 1904. 36300. 59400. 40600.]\n",
      " [ 1905. 20600. 41700. 39800.]\n",
      " [ 1906. 18100. 19000. 38600.]\n",
      " [ 1907. 21400. 13000. 42300.]\n",
      " [ 1908. 22000.  8300. 44500.]\n",
      " [ 1909. 25400.  9100. 42100.]\n",
      " [ 1910. 27100.  7400. 46000.]\n",
      " [ 1911. 40300.  8000. 46800.]\n",
      " [ 1912. 57000. 12300. 43800.]\n",
      " [ 1913. 76600. 19500. 40900.]\n",
      " [ 1914. 52300. 45700. 39400.]\n",
      " [ 1915. 19500. 51100. 39000.]\n",
      " [ 1916. 11200. 29700. 36700.]\n",
      " [ 1917.  7600. 15800. 41800.]\n",
      " [ 1918. 14600.  9700. 43300.]\n",
      " [ 1919. 16200. 10100. 41300.]\n",
      " [ 1920. 24700.  8600. 47300.]]\n"
     ]
    },
    {
     "data": {
      "image/png": "[encoded data removed]",
      "text/plain": [
       "<Figure size 432x288 with 1 Axes>"
      ]
     },
     "metadata": {
      "needs_background": "light"
     },
     "output_type": "display_data"
    },
    {
     "data": {
      "image/png": "[encoded data removed]",
      "text/plain": [
       "<Figure size 432x288 with 1 Axes>"
      ]
     },
     "metadata": {
      "needs_background": "light"
     },
     "output_type": "display_data"
    },
    {
     "data": {
      "image/png": "[encoded data removed]",
      "text/plain": [
       "<Figure size 432x288 with 1 Axes>"
      ]
     },
     "metadata": {
      "needs_background": "light"
     },
     "output_type": "display_data"
    },
    {
     "name": "stdout",
     "output_type": "stream",
     "text": [
      "main statistical properties for hares:\n",
      "sum 715700.0\n",
      "min 7600.0\n",
      "argmin 17\n",
      "mean 34080.95238095238\n",
      "median 25400.0\n",
      "std 20897.906458089667\n",
      "main statistical properties for lynxes:\n",
      "sum 423500.0\n",
      "min 4000.0\n",
      "argmin 0\n",
      "mean 20166.666666666668\n",
      "median 12300.0\n",
      "std 16254.591536908763\n",
      "main statistical properties for carrots:\n",
      "sum 890400.0\n",
      "min 36700.0\n",
      "argmin 16\n",
      "mean 42400.0\n",
      "median 41800.0\n",
      "std 3322.5062255844787\n",
      "Max populations over years\n",
      "1900 : Carrots\n",
      "1901 : Carrots\n",
      "1902 : Hares\n",
      "1903 : Hares\n",
      "1904 : Lynxes\n",
      "1905 : Lynxes\n",
      "1906 : Carrots\n",
      "1907 : Carrots\n",
      "1908 : Carrots\n",
      "1909 : Carrots\n",
      "1910 : Carrots\n",
      "1911 : Carrots\n",
      "1912 : Hares\n",
      "1913 : Hares\n",
      "1914 : Hares\n",
      "1915 : Lynxes\n",
      "1916 : Carrots\n",
      "1917 : Carrots\n",
      "1918 : Carrots\n",
      "1919 : Carrots\n",
      "1920 : Carrots\n"
     ]
    }
   ],
   "source": [
    "import numpy as np\n",
    "import matplotlib.pyplot as plt\n",
    "\n",
    "\n",
    "Data = np.loadtxt(\"populations.txt\", skiprows=1)\n",
    "print(Data)\n",
    "\n",
    "year = Data[:,0]\n",
    "hares = Data[:,1]\n",
    "lynxes = Data[:,2]\n",
    "carrots = Data[:,3]\n",
    "\n",
    "plt.figure()\n",
    "plt.plot(year,hares, 'r')\n",
    "plt.xlabel('years')\n",
    "plt.ylabel('hares')\n",
    "plt.show()\n",
    "\n",
    "plt.figure()\n",
    "plt.plot(year,lynxes, 'r')\n",
    "plt.xlabel('years')\n",
    "plt.ylabel('lynx')\n",
    "plt.show()\n",
    "\n",
    "plt.figure()\n",
    "plt.plot(year,carrots, 'r')\n",
    "plt.xlabel('years')\n",
    "plt.ylabel('carrot')\n",
    "plt.show()\n",
    "\n",
    "print(\"main statistical properties for hares:\")\n",
    "for function in ['sum','min','argmin','mean','median','std']:\n",
    "    print (function, getattr(np, function)(hares))\n",
    "print(\"main statistical properties for lynxes:\")\n",
    "for function in ['sum','min','argmin','mean','median','std']:\n",
    "    print (function, getattr(np, function)(lynxes)) \n",
    "print(\"main statistical properties for carrots:\")\n",
    "for function in ['sum','min','argmin','mean','median','std']:\n",
    "    print (function, getattr(np, function)(carrots))\n",
    "    \n",
    "titles=['Hares','Lynxes','Carrots']   \n",
    "print(\"Max populations over years\")\n",
    "for i in Data:\n",
    "    print(int(i[0]),':', titles[np.argmax(i[1:])])\n",
    "    "
   ]
  },
  {
   "cell_type": "code",
   "execution_count": null,
   "metadata": {},
   "outputs": [],
   "source": []
  }
 ],
 "metadata": {
  "kernelspec": {
   "display_name": "Python 3",
   "language": "python",
   "name": "python3"
  },
  "language_info": {
   "codemirror_mode": {
    "name": "ipython",
    "version": 3
   },
   "file_extension": ".py",
   "mimetype": "text/x-python",
   "name": "python",
   "nbconvert_exporter": "python",
   "pygments_lexer": "ipython3",
   "version": "3.7.9"
  }
 },
 "nbformat": 4,
 "nbformat_minor": 2
}
